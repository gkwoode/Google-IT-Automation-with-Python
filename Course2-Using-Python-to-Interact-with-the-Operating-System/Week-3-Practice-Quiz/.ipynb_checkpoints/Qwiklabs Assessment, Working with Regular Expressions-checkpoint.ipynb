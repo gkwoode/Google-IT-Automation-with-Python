{
 "cells": [
  {
   "cell_type": "markdown",
   "id": "cf20a686",
   "metadata": {},
   "source": [
    "## Identify the old domain"
   ]
  },
  {
   "cell_type": "code",
   "execution_count": null,
   "id": "93b96fc7",
   "metadata": {},
   "outputs": [],
   "source": [
    "#!/usr/bin/env python3\n",
    "\n",
    "import re\n",
    "import csv"
   ]
  },
  {
   "cell_type": "code",
   "execution_count": null,
   "id": "287c23bd",
   "metadata": {},
   "outputs": [],
   "source": [
    "def contains_domain(address, domain):\n",
    "#   \"\"\"Returns True if the email address contains the given,domain,in the domain position, false if not.\"\"\"\n",
    "    domain = r'[\\w\\.-]+@'+domain+'$'\n",
    "    if re.match(domain,address):\n",
    "        return True\n",
    "    return False"
   ]
  },
  {
   "cell_type": "markdown",
   "id": "71ddd22c",
   "metadata": {},
   "source": [
    "## Replace the domain name"
   ]
  },
  {
   "cell_type": "code",
   "execution_count": null,
   "id": "758cbbb5",
   "metadata": {},
   "outputs": [],
   "source": [
    "def replace_domain(address, old_domain, new_domain):\n",
    "#     \"\"\"Replaces the old domain with the new domain in the received address.\"\"\"\n",
    "    old_domain_pattern = r'' + old_domain + '$'\n",
    "    address = re.sub(old_domain_pattern, new_domain, address)\n",
    "    return address"
   ]
  },
  {
   "cell_type": "markdown",
   "id": "9239187f",
   "metadata": {},
   "source": [
    "## Write a CSV file with replaced domain from main"
   ]
  },
  {
   "cell_type": "code",
   "execution_count": null,
   "id": "3ff17926",
   "metadata": {},
   "outputs": [],
   "source": [
    "def main():\n",
    "#     \"\"\"Processes the list of emails, replacing any instances of the old domain with the new domain.\"\"\"\n",
    "    old_domain, new_domain = 'abc.edu', 'xyz.edu'\n",
    "    \n",
    "    # Replace student-04-bfac8d5a313b with the username you are provided with\n",
    "    csv_file_location = '/home/student-04-bfac8d5a313b/data/user_emails.csv'\n",
    "    report_file = '/home/student-04-bfac8d5a313b/data' + '/updated_user_emails.csv'\n",
    "    user_email_list = []\n",
    "    old_domain_email_list = []\n",
    "    new_domain_email_list = []\n",
    "    \n",
    "    with open(csv_file_location, 'r') as f:\n",
    "        user_data_list = list(csv.reader(f))\n",
    "        user_email_list = [data[1].strip() for data in user_data_list[1:]]\n",
    "        \n",
    "        for email_address in user_email_list:\n",
    "            if contains_domain(email_address, old_domain):\n",
    "                old_domain_email_list.append(email_address)\n",
    "                replaced_email = replace_domain(email_address,old_domain,new_domain)\n",
    "                new_domain_email_list.append(replaced_email)\n",
    "        email_key = ' ' + 'Email Address'\n",
    "        email_index = user_data_list[0].index(email_key)\n",
    "        \n",
    "        for user in user_data_list[1:]:\n",
    "            for old_domain, new_domain in zip(old_domain_email_list, new_domain_email_list):\n",
    "                if user[email_index] == ' ' + old_domain:\n",
    "                    user[email_index] = ' ' + new_domain\n",
    "    f.close()\n",
    "    \n",
    "    with open(report_file, 'w+') as output_file:\n",
    "        writer = csv.writer(output_file)\n",
    "        writer.writerows(user_data_list)\n",
    "        output_file.close()\n",
    "        \n",
    "main()"
   ]
  }
 ],
 "metadata": {
  "kernelspec": {
   "display_name": "Python 3 (ipykernel)",
   "language": "python",
   "name": "python3"
  },
  "language_info": {
   "codemirror_mode": {
    "name": "ipython",
    "version": 3
   },
   "file_extension": ".py",
   "mimetype": "text/x-python",
   "name": "python",
   "nbconvert_exporter": "python",
   "pygments_lexer": "ipython3",
   "version": "3.9.7"
  }
 },
 "nbformat": 4,
 "nbformat_minor": 5
}
