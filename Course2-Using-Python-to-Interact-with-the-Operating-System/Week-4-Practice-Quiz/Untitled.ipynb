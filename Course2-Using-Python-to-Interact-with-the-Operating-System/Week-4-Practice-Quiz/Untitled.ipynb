{
 "cells": [
  {
   "cell_type": "code",
   "execution_count": null,
   "id": "a6f92fda",
   "metadata": {},
   "outputs": [],
   "source": [
    "#!/usr/bin/env python3\n",
    "\n",
    "# Command-Line Arguments and Exit Status\n",
    "\n",
    "import os\n",
    "import sys\n",
    "\n",
    "filename = sys.argv[1]\n",
    "\n",
    "if not os.path.exists(filename):\n",
    "    with open(filename, \"w\") as f:\n",
    "        f.write(\"New file created\\n\")\n",
    "\n",
    "else:\n",
    "    print(\"Error, the file {} already exist!\".format(filename))\n",
    "    sys.exist(1)"
   ]
  },
  {
   "cell_type": "code",
   "execution_count": null,
   "id": "93ec014b",
   "metadata": {},
   "outputs": [],
   "source": [
    "usernames = {}\n",
    "name = \"good_user\"\n",
    "usernames[name] = usernames.get(name, 0) +1\n",
    "print(usernames)"
   ]
  },
  {
   "cell_type": "code",
   "execution_count": null,
   "id": "ac07762f",
   "metadata": {},
   "outputs": [],
   "source": [
    "#!/usr/bin/env python3\n",
    "\n",
    "import re\n",
    "import sys\n",
    "\n",
    "logfile = sys.argv[1]\n",
    "usernames = {}\n",
    "\n",
    "with open(logfile) as f:\n",
    "    for line in f:\n",
    "        if \"CRON\" not in line:\n",
    "            continue\n",
    "        pattern = r\"USER \\((\\w+)\\)$\"\n",
    "        result = re.search(pattern, line)\n",
    "        if result is None:\n",
    "            continue\n",
    "            \n",
    "        name = result[1]\n",
    "        usernames[name] = usernames.get(name, 0) + 1\n",
    "#         print(result[1])\n",
    "\n",
    "print(usernames)"
   ]
  }
 ],
 "metadata": {
  "kernelspec": {
   "display_name": "Python 3 (ipykernel)",
   "language": "python",
   "name": "python3"
  },
  "language_info": {
   "codemirror_mode": {
    "name": "ipython",
    "version": 3
   },
   "file_extension": ".py",
   "mimetype": "text/x-python",
   "name": "python",
   "nbconvert_exporter": "python",
   "pygments_lexer": "ipython3",
   "version": "3.9.7"
  }
 },
 "nbformat": 4,
 "nbformat_minor": 5
}
