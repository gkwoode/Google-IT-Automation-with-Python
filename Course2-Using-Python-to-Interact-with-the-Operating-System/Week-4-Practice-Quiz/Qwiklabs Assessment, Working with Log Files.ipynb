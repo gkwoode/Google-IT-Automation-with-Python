{
 "cells": [
  {
   "cell_type": "code",
   "execution_count": null,
   "id": "03e9b4c2",
   "metadata": {},
   "outputs": [],
   "source": [
    "#!/usr/bin/env python3\n",
    "\n",
    "import sys\n",
    "import os\n",
    "import re"
   ]
  },
  {
   "cell_type": "markdown",
   "id": "b467ea64",
   "metadata": {},
   "source": [
    "## Find an error"
   ]
  },
  {
   "cell_type": "code",
   "execution_count": null,
   "id": "e6969858",
   "metadata": {},
   "outputs": [],
   "source": [
    "# Find error\n",
    "\n",
    "def error_search(log_file):\n",
    "    error = input(\"What is the error? \")\n",
    "    returned_errors = []\n",
    "    with open(log_file, mode='r',encoding='UTF-8') as file:\n",
    "        for log in  file.readlines():\n",
    "            error_patterns = [\"error\"]\n",
    "            for i in range(len(error.split(' '))):\n",
    "                error_patterns.append(r\"{}\".format(error.split(' ')[i].lower()))\n",
    "            if all(re.search(error_pattern, log.lower()) for error_pattern in error_p):\n",
    "                   returned_errors.append(log)\n",
    "        file.close()\n",
    "    return returned_errors\n",
    "\n",
    "\n"
   ]
  },
  {
   "cell_type": "markdown",
   "id": "f06b0784",
   "metadata": {},
   "source": [
    "## Create an output file"
   ]
  },
  {
   "cell_type": "code",
   "execution_count": null,
   "id": "d0ac57e4",
   "metadata": {},
   "outputs": [],
   "source": [
    "# Create an output file\n",
    "\n",
    "def file_output(returned_errors):\n",
    "      with open(os.path.expanduser('~') + '/data/errors_found.log', 'w') as file:\n",
    "                for error in returned_errors:\n",
    "                    file.write(error)\n",
    "                file.close()"
   ]
  },
  {
   "cell_type": "markdown",
   "id": "a9f3e6ae",
   "metadata": {},
   "source": [
    "## Function call"
   ]
  },
  {
   "cell_type": "code",
   "execution_count": null,
   "id": "cf2d0756",
   "metadata": {},
   "outputs": [],
   "source": [
    "if __name__ == \"__main__\":\n",
    "    log_file = sys.argv[1]\n",
    "    returned_errors = error_search(log_file)\n",
    "    file_output(returned_errors)\n",
    "    sys.exit(0)"
   ]
  }
 ],
 "metadata": {
  "kernelspec": {
   "display_name": "Python 3 (ipykernel)",
   "language": "python",
   "name": "python3"
  },
  "language_info": {
   "codemirror_mode": {
    "name": "ipython",
    "version": 3
   },
   "file_extension": ".py",
   "mimetype": "text/x-python",
   "name": "python",
   "nbconvert_exporter": "python",
   "pygments_lexer": "ipython3",
   "version": "3.9.7"
  }
 },
 "nbformat": 4,
 "nbformat_minor": 5
}
