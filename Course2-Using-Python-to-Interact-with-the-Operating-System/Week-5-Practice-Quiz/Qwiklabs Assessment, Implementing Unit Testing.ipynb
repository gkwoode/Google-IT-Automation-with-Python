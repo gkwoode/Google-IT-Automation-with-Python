{
 "cells": [
  {
   "cell_type": "markdown",
   "id": "fdcc0b59",
   "metadata": {},
   "source": [
    "## Implementing Unit Testing"
   ]
  },
  {
   "cell_type": "markdown",
   "id": "15e662af",
   "metadata": {},
   "source": [
    "### Test Case 1: Missing parameters"
   ]
  },
  {
   "cell_type": "code",
   "execution_count": null,
   "id": "9815d6dd",
   "metadata": {},
   "outputs": [],
   "source": [
    "#!/usr/bin/env python3\n",
    "import sys\n",
    "import csv\n",
    "def populate_dictionary(filename):\n",
    "  \"\"\"Populate a dictionary with name/email pairs for easy lookup.\"\"\"\n",
    "  email_dict = {}\n",
    "  with open(filename) as csvfile:\n",
    "    lines = csv.reader(csvfile, delimiter = ',')\n",
    "    for row in lines:\n",
    "      name = str(row[0].lower())\n",
    "      email_dict[name] = row[1]\n",
    "  return email_dict\n",
    "def find_email(argv):\n",
    "  \"\"\" Return an email address based on the username given.\"\"\"\n",
    "  # Create the username based on the command line input.\n",
    "  try:\n",
    "    fullname = str(argv[1] + \" \" + argv[2])\n",
    "    # Preprocess the data\n",
    "    email_dict = populate_dictionary('/home/student-04-0a7834dbd5fe/data/user_emails.csv')\n",
    "    # Find and print the email\n",
    "    return email_dict.get(fullname.lower())\n",
    "  except IndexError:\n",
    "    return \"Missing parameters\"\n",
    "def main():\n",
    "  print(find_email(sys.argv))\n",
    "if __name__ == \"__main__\":\n",
    "  main()"
   ]
  },
  {
   "cell_type": "markdown",
   "id": "555b92c8",
   "metadata": {},
   "source": [
    "### Test Case 2: Random email address"
   ]
  },
  {
   "cell_type": "code",
   "execution_count": null,
   "id": "5e849c3b",
   "metadata": {},
   "outputs": [],
   "source": [
    "#!/usr/bin/env python3\n",
    "import csv\n",
    "import sys\n",
    "def populate_dictionary(filename):\n",
    "  \"\"\"Populate a dictionary with name/email pairs for easy lookup.\"\"\"\n",
    "  email_dict = {}\n",
    "  with open(filename) as csvfile:\n",
    "    lines = csv.reader(csvfile, delimiter = ',')\n",
    "    for row in lines:\n",
    "      name = str(row[0].lower())\n",
    "      email_dict[name] = row[1]\n",
    "  return email_dict\n",
    "def find_email(argv):\n",
    "  \"\"\" Return an email address based on the username given.\"\"\"\n",
    "  # Create the username based on the command line input.\n",
    "  try:\n",
    "    fullname = str(argv[1] + \" \" + argv[2])\n",
    "    # Preprocess the data\n",
    "    email_dict = populate_dictionary('/home/student-04-0a7834dbd5fe/data/user_emails.csv')\n",
    "     # If email exists, print it\n",
    "    if email_dict.get(fullname.lower()):\n",
    "      return email_dict.get(fullname.lower())\n",
    "    else:\n",
    "      return \"No email address found\"\n",
    "  except IndexError:\n",
    "    return \"Missing parameters\"\n",
    "def main():\n",
    "  print(find_email(sys.argv))\n",
    "if __name__ == \"__main__\":\n",
    "  main()"
   ]
  }
 ],
 "metadata": {
  "kernelspec": {
   "display_name": "Python 3 (ipykernel)",
   "language": "python",
   "name": "python3"
  },
  "language_info": {
   "codemirror_mode": {
    "name": "ipython",
    "version": 3
   },
   "file_extension": ".py",
   "mimetype": "text/x-python",
   "name": "python",
   "nbconvert_exporter": "python",
   "pygments_lexer": "ipython3",
   "version": "3.9.7"
  }
 },
 "nbformat": 4,
 "nbformat_minor": 5
}
