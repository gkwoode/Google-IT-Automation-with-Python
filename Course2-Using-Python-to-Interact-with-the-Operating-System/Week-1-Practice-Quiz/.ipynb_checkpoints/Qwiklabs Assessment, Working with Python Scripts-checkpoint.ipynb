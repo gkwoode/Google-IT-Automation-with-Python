{
 "cells": [
  {
   "cell_type": "markdown",
   "id": "9cad0e7f",
   "metadata": {},
   "source": [
    "## Create a new Python module"
   ]
  },
  {
   "cell_type": "code",
   "execution_count": null,
   "id": "9a3aff0a",
   "metadata": {},
   "outputs": [],
   "source": [
    "#!usr/bin/env python3\n",
    "\n",
    "import requests\n",
    "import socket\n"
   ]
  },
  {
   "cell_type": "code",
   "execution_count": null,
   "id": "753d8cb1",
   "metadata": {},
   "outputs": [],
   "source": [
    "\n",
    "def check_localhost():\n",
    "    localhost = socket.gethostbyname('localhost')\n",
    "    print(localhost)\n",
    "    if localhost == '127.0.0.1':\n",
    "        return True\n",
    "    else:\n",
    "        return False"
   ]
  },
  {
   "cell_type": "code",
   "execution_count": null,
   "id": "bb4d379b",
   "metadata": {},
   "outputs": [],
   "source": [
    "def check_connectivity():\n",
    "    request = requests.get(\"http://www.google.com\")\n",
    "    responses = request.status_code\n",
    "    print(responses)\n",
    "    if responses == 200:\n",
    "        return True\n",
    "    else:\n",
    "        return False"
   ]
  },
  {
   "cell_type": "markdown",
   "id": "cfb491e0",
   "metadata": {},
   "source": [
    "## Use the Python module"
   ]
  },
  {
   "cell_type": "code",
   "execution_count": null,
   "id": "16ee9d06",
   "metadata": {},
   "outputs": [],
   "source": [
    "from network import *\n",
    "import shutil\n",
    "import psutil"
   ]
  },
  {
   "cell_type": "code",
   "execution_count": null,
   "id": "07a885ff",
   "metadata": {},
   "outputs": [],
   "source": [
    "def check_disk_usage(disk):\n",
    "#     \"\"\"Verifies that there's enough free space on disk\"\"\"\n",
    "    du = shutil.disk_usage(disk)\n",
    "    free = du.free / du.total * 100\n",
    "    return free > 20"
   ]
  },
  {
   "cell_type": "code",
   "execution_count": null,
   "id": "796677cb",
   "metadata": {},
   "outputs": [],
   "source": [
    "def check_cpu_usage():\n",
    "#     \"\"\"Verifies that there's enough unused CPU\"\"\"\n",
    "    usage = psutil.cpu_percent(1)\n",
    "    return usage <75"
   ]
  },
  {
   "cell_type": "code",
   "execution_count": null,
   "id": "ea57f4e5",
   "metadata": {},
   "outputs": [],
   "source": [
    "# If there's not enough disk, or not enough CPU, print an error\n",
    "\n",
    "if not check_disk_usage('/') or not check_cpu_usage():\n",
    "    print(\"ERROR!\")\n",
    "elif check_localhost() and check_connectivity():\n",
    "    print(\"Everything ok\")\n",
    "else:\n",
    "    print(\"Network checks failed\")"
   ]
  }
 ],
 "metadata": {
  "kernelspec": {
   "display_name": "Python 3 (ipykernel)",
   "language": "python",
   "name": "python3"
  },
  "language_info": {
   "codemirror_mode": {
    "name": "ipython",
    "version": 3
   },
   "file_extension": ".py",
   "mimetype": "text/x-python",
   "name": "python",
   "nbconvert_exporter": "python",
   "pygments_lexer": "ipython3",
   "version": "3.9.7"
  }
 },
 "nbformat": 4,
 "nbformat_minor": 5
}
