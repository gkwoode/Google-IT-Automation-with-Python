{
 "cells": [
  {
   "cell_type": "code",
   "execution_count": 1,
   "id": "bdafbe9a",
   "metadata": {},
   "outputs": [],
   "source": [
    "import shutil\n",
    "import psutil"
   ]
  },
  {
   "cell_type": "code",
   "execution_count": 2,
   "id": "3cdf7cfc",
   "metadata": {},
   "outputs": [],
   "source": [
    "def check_disk_usage(disk):\n",
    "    du = shutil.disk_usage(disk)\n",
    "    free = du.free / du.total * 100\n",
    "    return free > 20"
   ]
  },
  {
   "cell_type": "code",
   "execution_count": 3,
   "id": "fc26440f",
   "metadata": {},
   "outputs": [],
   "source": [
    "def check_cpu_usage():\n",
    "    usage = psutil.cpu_percent(1)\n",
    "    return usage < 75"
   ]
  },
  {
   "cell_type": "code",
   "execution_count": 4,
   "id": "ee6a482f",
   "metadata": {},
   "outputs": [
    {
     "name": "stdout",
     "output_type": "stream",
     "text": [
      "ERROR!\n"
     ]
    }
   ],
   "source": [
    "if not check_disk_usage(\"/\") or not check_cpu_usage():\n",
    "    print(\"ERROR!\")\n",
    "else:\n",
    "    print(\"Everything is OK!\")"
   ]
  },
  {
   "cell_type": "code",
   "execution_count": null,
   "id": "95cdcdb6",
   "metadata": {},
   "outputs": [],
   "source": []
  }
 ],
 "metadata": {
  "kernelspec": {
   "display_name": "Python 3",
   "language": "python",
   "name": "python3"
  },
  "language_info": {
   "codemirror_mode": {
    "name": "ipython",
    "version": 3
   },
   "file_extension": ".py",
   "mimetype": "text/x-python",
   "name": "python",
   "nbconvert_exporter": "python",
   "pygments_lexer": "ipython3",
   "version": "3.8.8"
  }
 },
 "nbformat": 4,
 "nbformat_minor": 5
}
