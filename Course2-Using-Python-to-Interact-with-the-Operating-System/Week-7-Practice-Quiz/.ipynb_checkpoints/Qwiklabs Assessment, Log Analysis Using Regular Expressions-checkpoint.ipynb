{
 "cells": [
  {
   "cell_type": "markdown",
   "id": "75bc36ac",
   "metadata": {},
   "source": [
    "## Exercise - 1"
   ]
  },
  {
   "cell_type": "code",
   "execution_count": null,
   "id": "ca0f3843",
   "metadata": {},
   "outputs": [],
   "source": [
    "import re\n",
    "line = \"May 27 11:45:40 ubuntu.local ticky: INFO: Created ticket [#1234] (username)\"\n",
    "\n",
    "re.search(r\"ticky: INFO: ([\\w ]*) \", line)"
   ]
  },
  {
   "cell_type": "code",
   "execution_count": null,
   "id": "7a8e3211",
   "metadata": {},
   "outputs": [],
   "source": [
    "line = \"May 27 11:45:40 ubuntu.local ticky: ERROR: Error creating ticket [#1234] (username)\"\n",
    "\n",
    "re.search(r\"ticky: ERROR: ([\\w ]*) \", line)"
   ]
  },
  {
   "cell_type": "markdown",
   "id": "7710cf6c",
   "metadata": {},
   "source": [
    "## Exercise - 2"
   ]
  },
  {
   "cell_type": "code",
   "execution_count": null,
   "id": "917e54fa",
   "metadata": {},
   "outputs": [],
   "source": [
    "fruit = {\"oranges\": 3, \"apples\": 5, \"bananas\": 7, \"pears\": 2}\n",
    "\n",
    "sorted(fruit.items())"
   ]
  },
  {
   "cell_type": "code",
   "execution_count": null,
   "id": "639e9f9c",
   "metadata": {},
   "outputs": [],
   "source": [
    "import operator\n",
    "\n",
    "sorted(fruit.items(), key = operator.itemgetter(0))"
   ]
  },
  {
   "cell_type": "code",
   "execution_count": null,
   "id": "5e03746a",
   "metadata": {},
   "outputs": [],
   "source": [
    "sorted(fruit.items(), key = operator.itemgetter(1))"
   ]
  },
  {
   "cell_type": "code",
   "execution_count": null,
   "id": "563c88a7",
   "metadata": {},
   "outputs": [],
   "source": [
    "sorted(fruit.items(), key = operator.itemgetter(1), reverse=True)"
   ]
  },
  {
   "cell_type": "markdown",
   "id": "3fe14292",
   "metadata": {},
   "source": [
    "## Exercise - 3"
   ]
  },
  {
   "cell_type": "markdown",
   "id": "a3e3d6e2",
   "metadata": {},
   "source": [
    "### Add the following data into the files"
   ]
  },
  {
   "cell_type": "code",
   "execution_count": null,
   "id": "a82e4aa6",
   "metadata": {},
   "outputs": [],
   "source": [
    "Full Name, Email Address\n",
    "Blossom Gill, blossom@abc.edu\n",
    "Hayes Delgado, nonummy@utnisia.com\n",
    "Petra Jones, ac@abc.edu\n",
    "Oleg Noel, noel@liberomauris.ca\n",
    "Ahmed Miller, ahmed.miller@nequenonquam.co.uk\n",
    "Macaulay Douglas, mdouglas@abc.edu\n",
    "Aurora Grant, enim.non@abc.edu\n",
    "Madison Mcintosh, mcintosh@nisiaenean.net\n",
    "Montana Powell, montanap@semmagna.org\n",
    "Rogan Robinson, rr.robinson@abc.edu\n",
    "Simon Rivera, sri@abc.edu\n",
    "Benedict Pacheco, bpacheco@abc.edu\n",
    "Maisie Hendrix, mai.hendrix@abc.edu\n",
    "Xaviera Gould, xlg@utnisia.net\n",
    "Oren Rollins, oren@semmagna.com\n",
    "Flavia Santiago, flavia@utnisia.net\n",
    "Jackson Owens, jackowens@abc.edu\n",
    "Britanni Humphrey, britanni@ut.net\n",
    "Kirk Nixon, kirknixon@abc.edu\n",
    "Bree Campbell, breee@utnisia.net"
   ]
  },
  {
   "cell_type": "code",
   "execution_count": null,
   "id": "353a967a",
   "metadata": {},
   "outputs": [],
   "source": [
    "./csv_to_html.py user_emails.csv /var/www/html/log.html"
   ]
  },
  {
   "cell_type": "code",
   "execution_count": null,
   "id": "c4c9ab51",
   "metadata": {},
   "outputs": [],
   "source": [
    "ls /var/www/html"
   ]
  },
  {
   "cell_type": "markdown",
   "id": "5b892aad",
   "metadata": {},
   "source": [
    "## Generate reports"
   ]
  },
  {
   "cell_type": "code",
   "execution_count": null,
   "id": "60420f13",
   "metadata": {},
   "outputs": [],
   "source": [
    "#!/usr/bin/env python3\n",
    "\n",
    "import re\n",
    "import csv\n",
    "import operator\n",
    "\n",
    "logs = open(\"syslog.log\",\"r\").readlines()\n",
    "log_count = dict()\n",
    "\n",
    "for log in logs:\n",
    "    error = re.findall(r'ERROR.*\\(',log)\n",
    "\n",
    "    if len(error) != 0:\n",
    "        log_text = error[0].replace(\"ERROR\",\"\").replace(\"(\",\"\").strip()\n",
    "        if log_text in log_count.keys():\n",
    "            log_count[log_text] += 1\n",
    "        else:\n",
    "            log_count[log_text] = 1\n",
    "            \n",
    "log_count = sorted(log_count.items(), key = operator.itemgetter(1), reverse=True)\n",
    "\n",
    "with open('error_message.csv', 'w', newline='') as csvfile:\n",
    "    spamwriter = csv.writer(csvfile, delimiter=',',\n",
    "                            quotechar='|', quoting=csv.QUOTE_MINIMAL)\n",
    "    spamwriter.writerow([\"Error\",\"Count\"])\n",
    "\n",
    "for log in log_count:\n",
    "    key,value = log\n",
    "    with open('error_message.csv', 'a', newline='') as csvfile:\n",
    "        spamwriter = csv.writer(csvfile, delimiter=',',quotechar='|', quoting=csv.QUOTE_MINIMAL)\n",
    "        spamwriter.writerow([key,value])\n",
    "        \n",
    "info_count = dict()\n",
    "error_count = dict()\n",
    "for log in logs:\n",
    "    username = re.search(r'\\(.*\\)',log).group().strip(\"()\")\n",
    "    error = re.search(r'(ERROR|INFO)',log).group()\n",
    "    if error == \"ERROR\":\n",
    "        if username in error_count.keys():\n",
    "            error_count[username] += 1\n",
    "        else:\n",
    "            error_count[username] = 1\n",
    "    else:\n",
    "        if username in info_count.keys():\n",
    "            info_count[username] += 1\n",
    "        else:\n",
    "            info_count[username] = 1\n",
    "\n",
    "with open('user_statistics.csv', 'w', newline='') as csvfile:\n",
    "    spamwriter = csv.writer(csvfile, delimiter=',',\n",
    "                            quotechar='|', quoting=csv.QUOTE_MINIMAL)\n",
    "    spamwriter.writerow([\"Username\", \"INFO\", \"ERROR\"])\n",
    "\n",
    "i = set(info_count.keys())\n",
    "e= set(error_count.keys())\n",
    "z = e-i\n",
    "d = dict.fromkeys(z,0)\n",
    "info_count.update(d)\n",
    "\n",
    "info_count = sorted(info_count.items(),key=operator.itemgetter(0))\n",
    "error_count = sorted(error_count.items(),key=operator.itemgetter(0))\n",
    "\n",
    "username = [i[0] for i in info_count]\n",
    "value1 = [i[1] for i in info_count]\n",
    "value2 = [i[1] for i in error_count]\n",
    "error_info = zip(value1,value2)\n",
    "final = list(zip(username,error_info))[:8]\n",
    "\n",
    "for i,j in final:\n",
    "    with open('user_statistics.csv', 'a', newline='') as csvfile:\n",
    "        spamwriter = csv.writer(csvfile, delimiter=',',quotechar='|', quoting=csv.QUOTE_MINIMAL)\n",
    "        spamwriter.writerow([i,j[0],j[1]])"
   ]
  }
 ],
 "metadata": {
  "kernelspec": {
   "display_name": "Python 3 (ipykernel)",
   "language": "python",
   "name": "python3"
  },
  "language_info": {
   "codemirror_mode": {
    "name": "ipython",
    "version": 3
   },
   "file_extension": ".py",
   "mimetype": "text/x-python",
   "name": "python",
   "nbconvert_exporter": "python",
   "pygments_lexer": "ipython3",
   "version": "3.9.7"
  }
 },
 "nbformat": 4,
 "nbformat_minor": 5
}
