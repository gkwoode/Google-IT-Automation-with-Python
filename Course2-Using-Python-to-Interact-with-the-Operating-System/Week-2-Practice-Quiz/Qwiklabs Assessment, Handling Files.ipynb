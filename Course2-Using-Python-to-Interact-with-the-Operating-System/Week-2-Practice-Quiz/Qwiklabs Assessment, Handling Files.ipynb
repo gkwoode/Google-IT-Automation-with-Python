{
 "cells": [
  {
   "cell_type": "markdown",
   "id": "69664426",
   "metadata": {},
   "source": [
    "## Convert employee data to dictionary"
   ]
  },
  {
   "cell_type": "code",
   "execution_count": null,
   "id": "7100cf5a",
   "metadata": {},
   "outputs": [],
   "source": [
    "#!/usr/bin/env python3\n",
    "\n",
    "import csv\n",
    "\n",
    "def read_employees(csv_file_location):\n",
    "    csv.register_dialect('empDialect', skipinitialspace=True, strict=True)\n",
    "    employee_file = csv.DictReader(open(csv_file_location), dialect = 'empDialect')\n",
    "    employee_list = []\n",
    "    for data in employee_file:\n",
    "        employee_list.append(data)\n",
    "    return employee_list\n",
    "\n",
    "# Change student-04-bfac8d5a313b to the username provided for you\n",
    "employee_list = read_employees('/home/student-04-bfac8d5a313b/data/employees.csv') # Change student-04-bfac8d5a313b to the username provided for you\n",
    "print(employee_list)"
   ]
  },
  {
   "cell_type": "markdown",
   "id": "c15702d9",
   "metadata": {},
   "source": [
    "## Process employee data"
   ]
  },
  {
   "cell_type": "code",
   "execution_count": null,
   "id": "a3e14431",
   "metadata": {},
   "outputs": [],
   "source": [
    "#!/usr/bin/env python3\n",
    "\n",
    "import csv\n",
    "\n",
    "def read_employees(csv_file_location):\n",
    "    csv.register_dialect('empDialect', skipinitialspace=True, strict=True)\n",
    "    employee_file = csv.DictReader(open(csv_file_location), dialect = 'empDialect')\n",
    "    employee_list = []\n",
    "    for data in employee_file:\n",
    "        employee_list.append(data)\n",
    "    return employee_list\n",
    "\n",
    "# Change student-04-bfac8d5a313b to the username provided for you\n",
    "employee_list = read_employees('/home/student-04-bfac8d5a313b/data/employees.csv') # Change student-04-bfac8d5a313b to the username provided for you\n",
    "def process_data(employee_list):\n",
    "    department_list = []\n",
    "    for employee_data in employee_list:\n",
    "        department_list.append(employee_data['Department'])\n",
    "    department_data = {}\n",
    "    for department_name in set(department_list):\n",
    "        department_data[department_name] = department_list.count(department_name)\n",
    "    return department_data\n",
    "\n",
    "dictionary = process_data(employee_list)\n",
    "print(dictionary)"
   ]
  },
  {
   "cell_type": "markdown",
   "id": "201d5c22",
   "metadata": {},
   "source": [
    "## Generate a report"
   ]
  },
  {
   "cell_type": "code",
   "execution_count": null,
   "id": "3d447708",
   "metadata": {},
   "outputs": [],
   "source": [
    "#!/usr/bin/env python3\n",
    "\n",
    "import csv\n",
    "\n",
    "def read_employees(csv_file_location):\n",
    "    csv.register_dialect('empDialect', skipinitialspace=True, strict=True)\n",
    "    employee_file = csv.DictReader(open(csv_file_location), dialect = 'empDial$\n",
    "    employee_list = []\n",
    "    for data in employee_file:\n",
    "       employee_list.append(data)\n",
    "    return employee_list\n",
    "\n",
    "# Change student-04-bfac8d5a313b to the username provided for you\n",
    "employee_list = read_employees('/home/student-04-bfac8d5a313b/data/employees$\n",
    "def process_data(employee_list):\n",
    "    department_list = []\n",
    "    for employee_data in employee_list:\n",
    "       department_list.append(employee_data['Department'])\n",
    "    department_data = {}\n",
    "    for department_name in set(department_list):\n",
    "       department_data[department_name] = department_list.count(department_na$\n",
    "    return department_data\n",
    "dictionary = process_data(employee_list)\n",
    "\n",
    "# Change student-04-bfac8d5a313b to the username provided for you\n",
    "def write_report(dictionary, report_file):\n",
    "    with open(report_file, \"w+\") as f:\n",
    "       for k in sorted(dictionary):\n",
    "          f.write(str(k)+':'+str(dictionary[k])+'\\n')\n",
    "       f.close()\n",
    "write_report(dictionary, '/home/student-04-bfac8d5a313b/data/report.txt')"
   ]
  }
 ],
 "metadata": {
  "kernelspec": {
   "display_name": "Python 3 (ipykernel)",
   "language": "python",
   "name": "python3"
  },
  "language_info": {
   "codemirror_mode": {
    "name": "ipython",
    "version": 3
   },
   "file_extension": ".py",
   "mimetype": "text/x-python",
   "name": "python",
   "nbconvert_exporter": "python",
   "pygments_lexer": "ipython3",
   "version": "3.9.7"
  }
 },
 "nbformat": 4,
 "nbformat_minor": 5
}
