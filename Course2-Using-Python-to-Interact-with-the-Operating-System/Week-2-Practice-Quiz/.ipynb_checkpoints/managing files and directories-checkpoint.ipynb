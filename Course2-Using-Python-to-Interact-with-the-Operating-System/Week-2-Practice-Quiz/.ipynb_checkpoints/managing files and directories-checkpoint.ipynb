{
 "cells": [
  {
   "cell_type": "markdown",
   "id": "730b2d01",
   "metadata": {},
   "source": [
    "The create_python_script function creates a new python script in the current working directory, adds the line of comments to it declared  by the 'comments' variable, and returns the size of the new file. Fill in the gaps to create a script called \"program.py\"."
   ]
  },
  {
   "cell_type": "code",
   "execution_count": 1,
   "id": "4d11f6af",
   "metadata": {},
   "outputs": [
    {
     "name": "stdout",
     "output_type": "stream",
     "text": [
      "31\n"
     ]
    }
   ],
   "source": [
    "def create_python_script(filename):\n",
    "    comments = \"# Start of a new Python program\"\n",
    "    with open (filename, \"w\") as file:\n",
    "        file.write(comments)\n",
    "        filesize = len(comments)\n",
    "    return(filesize)\n",
    "\n",
    "print(create_python_script(\"program.py\"))"
   ]
  },
  {
   "cell_type": "markdown",
   "id": "8677af7c",
   "metadata": {},
   "source": [
    "The new_directory function creates a new directory inside the current working directory, then creates a new empty file inside the new directory, and returns the list of files in that directory. Fill in the gaps to create a file \"script.py\" in the directory \"PythonPrograms\"."
   ]
  },
  {
   "cell_type": "code",
   "execution_count": 2,
   "id": "c9c70ae4",
   "metadata": {},
   "outputs": [
    {
     "name": "stdout",
     "output_type": "stream",
     "text": [
      "['script.py']\n"
     ]
    }
   ],
   "source": [
    "import os\n",
    "\n",
    "def new_directory(directory, filename):\n",
    "    # Before creating a new directory, check to see if it already exists\n",
    "    if os.path.isdir(directory) == False:\n",
    "        os.mkdir(directory)\n",
    "\n",
    "    # Create the new file inside of the new directory\n",
    "    os.chdir(directory)\n",
    "    with open (\"script.py\", \"w\") as file:\n",
    "        pass\n",
    "\n",
    "    # Return the list of files in the new directory\n",
    "    return os.listdir(os.getcwd())\n",
    "\n",
    "print(new_directory(\"PythonPrograms\", \"script.py\"))"
   ]
  },
  {
   "cell_type": "markdown",
   "id": "a0f4925b",
   "metadata": {},
   "source": [
    "\n",
    "The file_date function creates a new file in the current working directory, checks the date that the file was modified, and returns just the date portion of the timestamp in the format of yyyy-mm-dd. Fill in the gaps to create a file called \"newfile.txt\" and check the date that it was modified."
   ]
  },
  {
   "cell_type": "code",
   "execution_count": 3,
   "id": "4178192b",
   "metadata": {},
   "outputs": [
    {
     "name": "stdout",
     "output_type": "stream",
     "text": [
      "2022-04-20\n"
     ]
    }
   ],
   "source": [
    "import os\n",
    "import datetime\n",
    "\n",
    "def file_date(filename):\n",
    "    # Create the file in the current directory\n",
    "    with open(filename, \"w\") as file:\n",
    "        pass\n",
    "    \n",
    "    timestamp = os.path.getmtime(filename)\n",
    "    # Convert the timestamp into a readable format, then into a string\n",
    "    new_time = datetime.date.fromtimestamp(timestamp)\n",
    "    # Return just the date portion \n",
    "    # Hint: how many characters are in “yyyy-mm-dd”? \n",
    "    return (\"{}\".format(new_time))\n",
    "\n",
    "print(file_date(\"newfile.txt\")) \n",
    "# Should be today's date in the format of yyyy-mm-dd"
   ]
  },
  {
   "cell_type": "markdown",
   "id": "bf854628",
   "metadata": {},
   "source": [
    "The parent_directory function returns the name of the directory that's located just above the current working directory. Remember that '..' is a relative path alias that means \"go up to the parent directory\". Fill in the gaps to complete this function."
   ]
  },
  {
   "cell_type": "code",
   "execution_count": 6,
   "id": "3f972c47",
   "metadata": {},
   "outputs": [
    {
     "name": "stdout",
     "output_type": "stream",
     "text": [
      "C:\\Users\\PHANEROO\\3D Objects\\Google-IT-Automation-with-Python\\Course2-Using-Python-to-Interact-with-the-Operating-System\\Week-2\n"
     ]
    }
   ],
   "source": [
    "import os\n",
    "\n",
    "def parent_directory():\n",
    "    # Create a relative path to the parent \n",
    "    # of the current working directory \n",
    "    # dir = os.getcwd()\n",
    "    relative_parent = os.path.join('..')\n",
    "\n",
    "    # Return the absolute path of the parent directory\n",
    "    return os.path.abspath(relative_parent)\n",
    "\n",
    "print(parent_directory())"
   ]
  },
  {
   "cell_type": "code",
   "execution_count": null,
   "id": "229236d4",
   "metadata": {},
   "outputs": [],
   "source": []
  }
 ],
 "metadata": {
  "kernelspec": {
   "display_name": "Python 3",
   "language": "python",
   "name": "python3"
  },
  "language_info": {
   "codemirror_mode": {
    "name": "ipython",
    "version": 3
   },
   "file_extension": ".py",
   "mimetype": "text/x-python",
   "name": "python",
   "nbconvert_exporter": "python",
   "pygments_lexer": "ipython3",
   "version": "3.8.8"
  }
 },
 "nbformat": 4,
 "nbformat_minor": 5
}
