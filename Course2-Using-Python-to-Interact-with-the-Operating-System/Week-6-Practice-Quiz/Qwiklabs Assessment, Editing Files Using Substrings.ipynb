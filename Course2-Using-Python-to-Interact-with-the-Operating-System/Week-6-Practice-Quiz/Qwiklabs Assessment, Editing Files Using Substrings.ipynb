{
 "cells": [
  {
   "cell_type": "markdown",
   "id": "b5a61733",
   "metadata": {},
   "source": [
    "## Find files using bash script"
   ]
  },
  {
   "cell_type": "code",
   "execution_count": null,
   "id": "f6b62734",
   "metadata": {},
   "outputs": [],
   "source": [
    "#!/bin/bash\n",
    "> oldFiles.txt"
   ]
  },
  {
   "cell_type": "code",
   "execution_count": null,
   "id": "b5861226",
   "metadata": {},
   "outputs": [],
   "source": [
    "files=$(grep \" jane \" ../data/list.txt | cut -d' ' -f3)\n",
    "for f in $files; do\n",
    "  if [ -e $HOME$f ]; then\n",
    "    echo $HOME$f >> oldFiless.txt;\n",
    "  fi\n",
    "done"
   ]
  },
  {
   "cell_type": "markdown",
   "id": "63f5583c",
   "metadata": {},
   "source": [
    "## Rename files using Python script"
   ]
  },
  {
   "cell_type": "code",
   "execution_count": null,
   "id": "f6a5eaa0",
   "metadata": {},
   "outputs": [],
   "source": [
    "#!/usr/bin/env python3\n",
    "import sys\n",
    "import subprocess"
   ]
  },
  {
   "cell_type": "code",
   "execution_count": null,
   "id": "b8e7b2d8",
   "metadata": {},
   "outputs": [],
   "source": [
    "f = open(sys.argv[1], \"r\")\n",
    "for f in f.readlines():\n",
    "    old_name = line.strip()\n",
    "    new_name = old_name.replace(\"jane\", \"jdoe\")\n",
    "    subprocess.run([\"mv\", old_name, new_name])\n",
    "f.close()"
   ]
  }
 ],
 "metadata": {
  "kernelspec": {
   "display_name": "Python 3 (ipykernel)",
   "language": "python",
   "name": "python3"
  },
  "language_info": {
   "codemirror_mode": {
    "name": "ipython",
    "version": 3
   },
   "file_extension": ".py",
   "mimetype": "text/x-python",
   "name": "python",
   "nbconvert_exporter": "python",
   "pygments_lexer": "ipython3",
   "version": "3.9.7"
  }
 },
 "nbformat": 4,
 "nbformat_minor": 5
}
