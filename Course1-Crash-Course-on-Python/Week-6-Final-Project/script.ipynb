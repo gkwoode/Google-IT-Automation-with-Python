{
 "cells": [
  {
   "cell_type": "code",
   "execution_count": 14,
   "id": "602a448d",
   "metadata": {},
   "outputs": [],
   "source": [
    "def get_event_date(event):\n",
    "    return event.date"
   ]
  },
  {
   "cell_type": "code",
   "execution_count": 21,
   "id": "0a692c3b",
   "metadata": {},
   "outputs": [],
   "source": [
    "def current_users(events):\n",
    "    events.sort(key=get_event_date)\n",
    "    machines = {}\n",
    "    for event in events:\n",
    "        if event.machine not in machines:\n",
    "            machines[event.machine] = set()\n",
    "        if event.type == \"login\":\n",
    "            machines[event.machine].add(event.user)\n",
    "        #elif event.type == \"logout\":\n",
    "        # add \"and event.user in machines[event.machine]\"\n",
    "        elif event.type == \"logout\" and event.user in machines[event.machine]:\n",
    "            machines[event.machine].remove(event.user)\n",
    "    return machines"
   ]
  },
  {
   "cell_type": "code",
   "execution_count": 22,
   "id": "a83bb42f",
   "metadata": {},
   "outputs": [],
   "source": [
    "def generate_report(machines):\n",
    "    for machine, users in machines.items():\n",
    "        if len(users) > 0:\n",
    "            user_list = \", \".join(users)\n",
    "            print(\"{}: {}\".format(machine, user_list))"
   ]
  },
  {
   "cell_type": "code",
   "execution_count": 23,
   "id": "a27ae3b9",
   "metadata": {},
   "outputs": [],
   "source": [
    "# Creating event class\n",
    "\n",
    "class Event:\n",
    "    def __init__(self, event_date, event_type, machine_name, user):\n",
    "        self.date = event_date\n",
    "        self.type = event_type\n",
    "        self.machine = machine_name\n",
    "        self.user = user\n",
    "        "
   ]
  },
  {
   "cell_type": "code",
   "execution_count": 24,
   "id": "18ba109d",
   "metadata": {},
   "outputs": [],
   "source": [
    "# Examples of event to check if the code run\n",
    "\n",
    "events = [\n",
    "    Event('2022-04-07 07:53:22', 'login', 'mailserver.local', 'aba'),\n",
    "    Event('2022-04-17 08:33:20', 'login', 'myworkstation.local', 'kobby'),\n",
    "    Event('2022-04-03 12:53:02', 'logout', 'webserver.local', 'esi'),\n",
    "    Event('2022-04-14 17:23:44', 'login', 'webserver.local', 'yaw'),\n",
    "    Event('2022-04-01 13:44:52', 'logout', 'myworkstation.local', 'kwaku'),\n",
    "    Event('2022-04-11 05:22:56', 'login', 'myworkstation.local', 'kwesi'),\n",
    "    Event('2022-04-22 12:44:44', 'login', 'mailserver.local', 'kojo'),\n",
    "    Event('2022-04-03 01:12:01', 'logout', 'myworkstation.local', 'afia'),\n",
    "    Event('2022-04-07 17:41:26', 'logout', 'webserver.local', 'yaw'),\n",
    "    Event('2022-04-08 23:59:59', 'login', 'mailserver.local', 'kwesi'),\n",
    "]"
   ]
  },
  {
   "cell_type": "code",
   "execution_count": 25,
   "id": "111a5c39",
   "metadata": {},
   "outputs": [
    {
     "name": "stdout",
     "output_type": "stream",
     "text": [
      "{'myworkstation.local': {'kwesi', 'kobby'}, 'webserver.local': {'yaw'}, 'mailserver.local': {'aba', 'kwesi', 'kojo'}}\n"
     ]
    }
   ],
   "source": [
    "users = current_users(events)\n",
    "print(users)"
   ]
  },
  {
   "cell_type": "code",
   "execution_count": 26,
   "id": "b6ecf714",
   "metadata": {},
   "outputs": [
    {
     "name": "stdout",
     "output_type": "stream",
     "text": [
      "myworkstation.local: kwesi, kobby\n",
      "webserver.local: yaw\n",
      "mailserver.local: aba, kwesi, kojo\n"
     ]
    }
   ],
   "source": [
    "generate_report(users)"
   ]
  },
  {
   "cell_type": "code",
   "execution_count": null,
   "id": "2c663990",
   "metadata": {},
   "outputs": [],
   "source": []
  }
 ],
 "metadata": {
  "kernelspec": {
   "display_name": "Python 3",
   "language": "python",
   "name": "python3"
  },
  "language_info": {
   "codemirror_mode": {
    "name": "ipython",
    "version": 3
   },
   "file_extension": ".py",
   "mimetype": "text/x-python",
   "name": "python",
   "nbconvert_exporter": "python",
   "pygments_lexer": "ipython3",
   "version": "3.8.8"
  }
 },
 "nbformat": 4,
 "nbformat_minor": 5
}
