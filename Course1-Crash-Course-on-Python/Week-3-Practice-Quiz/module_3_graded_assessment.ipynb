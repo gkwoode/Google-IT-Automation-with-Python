{
 "cells": [
  {
   "cell_type": "markdown",
   "id": "0a792cc0",
   "metadata": {},
   "source": [
    "# Google IT Automation with Python"
   ]
  },
  {
   "cell_type": "markdown",
   "id": "3884e390",
   "metadata": {},
   "source": [
    "## Crash Course on Python\n",
    "## LOOPS"
   ]
  },
  {
   "cell_type": "markdown",
   "id": "67c0308b",
   "metadata": {},
   "source": [
    "##### What is the value of y at the end of the following code?"
   ]
  },
  {
   "cell_type": "code",
   "execution_count": 1,
   "id": "3b73c60c",
   "metadata": {},
   "outputs": [
    {
     "name": "stdout",
     "output_type": "stream",
     "text": [
      "0\n",
      "0\n",
      "1\n",
      "0\n",
      "1\n",
      "2\n",
      "0\n",
      "1\n",
      "2\n",
      "3\n",
      "0\n",
      "1\n",
      "2\n",
      "3\n",
      "4\n",
      "0\n",
      "1\n",
      "2\n",
      "3\n",
      "4\n",
      "5\n",
      "0\n",
      "1\n",
      "2\n",
      "3\n",
      "4\n",
      "5\n",
      "6\n",
      "0\n",
      "1\n",
      "2\n",
      "3\n",
      "4\n",
      "5\n",
      "6\n",
      "7\n",
      "0\n",
      "1\n",
      "2\n",
      "3\n",
      "4\n",
      "5\n",
      "6\n",
      "7\n",
      "8\n"
     ]
    }
   ],
   "source": [
    "for x in range(10):\n",
    "    for y in range(x):\n",
    "        print(y)"
   ]
  },
  {
   "cell_type": "markdown",
   "id": "6fa5e791",
   "metadata": {},
   "source": [
    "##### Fill in the blanks of this code to print out the numbers 1 through 7"
   ]
  },
  {
   "cell_type": "code",
   "execution_count": 2,
   "id": "2288c54e",
   "metadata": {},
   "outputs": [
    {
     "name": "stdout",
     "output_type": "stream",
     "text": [
      "1 2 3 4 5 6 7 "
     ]
    }
   ],
   "source": [
    "number = 1\n",
    "while number <= 7:\n",
    "    print(number, end=\" \")\n",
    "    number += 1"
   ]
  },
  {
   "cell_type": "markdown",
   "id": "d5fa0a38",
   "metadata": {},
   "source": [
    "##### The show_letters function should print out each letter of a word on a separate line. Fill in the blanks to make that happen."
   ]
  },
  {
   "cell_type": "code",
   "execution_count": 3,
   "id": "df43bed4",
   "metadata": {},
   "outputs": [
    {
     "name": "stdout",
     "output_type": "stream",
     "text": [
      "H\n",
      "e\n",
      "l\n",
      "l\n",
      "o\n"
     ]
    }
   ],
   "source": [
    "def show_letters(word):\n",
    "    for letter in word:\n",
    "        print(letter)\n",
    "\n",
    "show_letters(\"Hello\")\n",
    "# Should print one line per letter"
   ]
  },
  {
   "cell_type": "markdown",
   "id": "7de0c253",
   "metadata": {},
   "source": [
    "##### Complete the function digits(n) that returns how many digits the number has. For example: 25 has 2 digits and 144 has 3 digits. Tip: you can figure out the digits of a number by dividing it by 10 once per digit until there are no digits left"
   ]
  },
  {
   "cell_type": "code",
   "execution_count": 4,
   "id": "7207384f",
   "metadata": {},
   "outputs": [
    {
     "name": "stdout",
     "output_type": "stream",
     "text": [
      "2\n",
      "3\n",
      "4\n",
      "1\n"
     ]
    }
   ],
   "source": [
    "def digits(n):\n",
    "    count = 0\n",
    "    if n == 0:\n",
    "        return 1\n",
    "    while (n > 0):\n",
    "        count += 1\n",
    "        n = n // 10\n",
    "    return count\n",
    "    \n",
    "print(digits(25))   # Should print 2\n",
    "print(digits(144))  # Should print 3\n",
    "print(digits(1000)) # Should print 4\n",
    "print(digits(0))    # Should print 1"
   ]
  },
  {
   "cell_type": "markdown",
   "id": "606cbf79",
   "metadata": {},
   "source": [
    "##### This function prints out a multiplication table (where each number is the result of multiplying the first number of its row by the number at the top of its column). Fill in the blanks so that calling multiplication_table(1, 3) will print out\n",
    "\n",
    "#### 1 2 3 \n",
    "\n",
    "#### 2 4 6 \n",
    "\n",
    "#### 3 6 9"
   ]
  },
  {
   "cell_type": "code",
   "execution_count": 5,
   "id": "272e3678",
   "metadata": {},
   "outputs": [
    {
     "name": "stdout",
     "output_type": "stream",
     "text": [
      "1 2 3 \n",
      "2 4 6 \n",
      "3 6 9 \n"
     ]
    }
   ],
   "source": [
    "def multiplication_table(start, stop):\n",
    "    for x in range(start, stop+1):\n",
    "        for y in range(start, stop+1):\n",
    "            print(str(x*y), end=\" \")\n",
    "        print()\n",
    "\n",
    "multiplication_table(1, 3)\n",
    "# Should print the multiplication table shown above"
   ]
  },
  {
   "cell_type": "markdown",
   "id": "8d5032fe",
   "metadata": {},
   "source": [
    "##### The counter function counts down from start to stop when start is bigger than stop, and counts up from start to stop otherwise. Fill in the blanks to make this work correctly."
   ]
  },
  {
   "cell_type": "code",
   "execution_count": 6,
   "id": "81419b15",
   "metadata": {},
   "outputs": [
    {
     "name": "stdout",
     "output_type": "stream",
     "text": [
      "Counting up: 1,2,3,4,5,6,7,8,9,10\n",
      "Counting down: 2,1\n",
      "Counting up: 5\n"
     ]
    }
   ],
   "source": [
    "def counter(start, stop):\n",
    "    x = start\n",
    "    if x > stop:\n",
    "        return_string = \"Counting down: \"\n",
    "        while x >= stop:\n",
    "            return_string += str(x)\n",
    "            if x > stop:\n",
    "                return_string += \",\"\n",
    "            x = x-1\n",
    "    else:\n",
    "        return_string = \"Counting up: \"\n",
    "        while x <= stop:\n",
    "            return_string += str(x)\n",
    "            if x < stop:\n",
    "                return_string += \",\"\n",
    "            x = x+1\n",
    "    return return_string\n",
    "\n",
    "print(counter(1, 10)) # Should be \"Counting up: 1,2,3,4,5,6,7,8,9,10\"\n",
    "print(counter(2, 1)) # Should be \"Counting down: 2,1\"\n",
    "print(counter(5, 5)) # Should be \"Counting up: 5\""
   ]
  },
  {
   "cell_type": "markdown",
   "id": "61bcacc4",
   "metadata": {},
   "source": [
    "##### The even_numbers function returns a space-separated string of all positive numbers that are divisible by 2, up to and including the maximum that's passed into the function. For example, even_numbers(6) returns “2 4 6”. Fill in the blank to make this work"
   ]
  },
  {
   "cell_type": "code",
   "execution_count": 7,
   "id": "1eecb792",
   "metadata": {},
   "outputs": [
    {
     "name": "stdout",
     "output_type": "stream",
     "text": [
      "2 4 6\n",
      "2 4 6 8 10\n",
      "\n",
      "2\n",
      "\n"
     ]
    }
   ],
   "source": [
    "def even_numbers(maximum):\n",
    "    return_string = \"\"\n",
    "    for x in range (2, maximum+1, 2):\n",
    "        return_string += str(x) + \" \"\n",
    "    return return_string.strip()\n",
    "\n",
    "print(even_numbers(6))  # Should be 2 4 6\n",
    "print(even_numbers(10)) # Should be 2 4 6 8 10\n",
    "print(even_numbers(1))  # No numbers displayed\n",
    "print(even_numbers(3))  # Should be 2\n",
    "print(even_numbers(0))  # No numbers displayed"
   ]
  },
  {
   "cell_type": "markdown",
   "id": "894d973e",
   "metadata": {},
   "source": [
    "##### The following code raises an error when executed. What's the reason for the error?"
   ]
  },
  {
   "cell_type": "code",
   "execution_count": 8,
   "id": "7231f93a",
   "metadata": {},
   "outputs": [],
   "source": [
    "def decade_counter():\n",
    "    while year < 50:\n",
    "        year += 10\n",
    "    return year\n",
    "\n",
    "### Output: Failure to initialize variables"
   ]
  },
  {
   "cell_type": "markdown",
   "id": "b156f623",
   "metadata": {},
   "source": [
    "##### What is the value of x at the end of the following code?"
   ]
  },
  {
   "cell_type": "code",
   "execution_count": 9,
   "id": "82000e2a",
   "metadata": {},
   "outputs": [
    {
     "name": "stdout",
     "output_type": "stream",
     "text": [
      "1\n",
      "4\n",
      "7\n"
     ]
    }
   ],
   "source": [
    "for x in range(1, 10, 3):\n",
    "    print(x)"
   ]
  },
  {
   "cell_type": "markdown",
   "id": "2bd17439",
   "metadata": {},
   "source": [
    "##### How does this function need to be called to print yes, no, and maybe as possible options to vote for?"
   ]
  },
  {
   "cell_type": "code",
   "execution_count": 13,
   "id": "89aba47b",
   "metadata": {},
   "outputs": [],
   "source": [
    "def votes(params):\n",
    "    for vote in params:\n",
    "        print(\"Possible option:\" + vote)\n",
    "        \n",
    "## Output: votes(['yes', 'no', 'maybe'])"
   ]
  },
  {
   "cell_type": "markdown",
   "id": "e8cc4617",
   "metadata": {},
   "source": [
    "##### The loop function is similar to range(), but handles the parameters somewhat differently: it takes in 3 parameters: the starting point, the stopping point, and the increment step. When the starting point is greater than the stopping point, it forces the steps to be negative. When, instead, the starting point is less than the stopping point, it forces the step to be positive. Also, if the step is 0, it changes to 1 or -1. The result is returned as a one-line, space-separated string of numbers. For example, loop(11,2,3) should return 11 8 5 and loop(1,5,0) should return 1 2 3 4. Fill in the missing parts to make that happen."
   ]
  },
  {
   "cell_type": "code",
   "execution_count": 10,
   "id": "ccaeefbb",
   "metadata": {},
   "outputs": [
    {
     "name": "stdout",
     "output_type": "stream",
     "text": [
      "11 8 5\n",
      "1 2 3 4\n",
      "-1\n",
      "10 12 14 16 18 20 22 24\n",
      "\n"
     ]
    }
   ],
   "source": [
    "def loop(start, stop, step):\n",
    "    return_string = \"\"\n",
    "    if step == 0:\n",
    "        step = 1\n",
    "    if start > stop:\n",
    "        step = abs(step) * -1\n",
    "    else:\n",
    "        step = abs(step)\n",
    "    for count in range(start,stop,step):\n",
    "        return_string += str(count) + \" \"\n",
    "    return return_string.strip()\n",
    "\n",
    "print(loop(11,2,3)) # Should be 11 8 5\n",
    "print(loop(1,5,0)) # Should be 1 2 3 4\n",
    "print(loop(-1,-2,0)) # Should be -1\n",
    "print(loop(10,25,-2)) # Should be 10 12 14 16 18 20 22 24 \n",
    "print(loop(1,1,1)) # Should be empty"
   ]
  },
  {
   "cell_type": "code",
   "execution_count": null,
   "id": "5928f8b5",
   "metadata": {},
   "outputs": [],
   "source": []
  }
 ],
 "metadata": {
  "kernelspec": {
   "display_name": "Python 3",
   "language": "python",
   "name": "python3"
  },
  "language_info": {
   "codemirror_mode": {
    "name": "ipython",
    "version": 3
   },
   "file_extension": ".py",
   "mimetype": "text/x-python",
   "name": "python",
   "nbconvert_exporter": "python",
   "pygments_lexer": "ipython3",
   "version": "3.8.8"
  }
 },
 "nbformat": 4,
 "nbformat_minor": 5
}
