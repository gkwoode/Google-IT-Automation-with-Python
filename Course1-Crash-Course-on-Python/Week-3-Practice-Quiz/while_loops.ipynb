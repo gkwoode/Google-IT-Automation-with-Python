{
 "cells": [
  {
   "cell_type": "markdown",
   "id": "7f030b22",
   "metadata": {},
   "source": [
    "### While Loops"
   ]
  },
  {
   "cell_type": "markdown",
   "id": "8f27cffa",
   "metadata": {},
   "source": [
    "##### Fill in the blanks to make the print_prime_factors function print all the prime factors of a number. A prime factor is a number that is prime and divides another without a remainder."
   ]
  },
  {
   "cell_type": "code",
   "execution_count": 1,
   "id": "33fa86c3",
   "metadata": {},
   "outputs": [
    {
     "name": "stdout",
     "output_type": "stream",
     "text": [
      "2\n",
      "2\n",
      "5\n",
      "5\n"
     ]
    },
    {
     "data": {
      "text/plain": [
       "'Done'"
      ]
     },
     "execution_count": 1,
     "metadata": {},
     "output_type": "execute_result"
    }
   ],
   "source": [
    "def print_prime_factors(number):\n",
    "    # Start with two, which is the first prime\n",
    "    factor = 2\n",
    "    # Keep going until the factor is larger than the number\n",
    "    while factor <= number:\n",
    "        # Check if factor is a divisor of number\n",
    "        if number % factor == 0:\n",
    "            # If it is, print it and divide the original number\n",
    "            print(factor)\n",
    "            number = number / factor\n",
    "        else:\n",
    "            # If it's not, increment the factor by one\n",
    "            factor += 1\n",
    "    return \"Done\"\n",
    "\n",
    "print_prime_factors(100)\n",
    "# Should print 2,2,5,5"
   ]
  },
  {
   "cell_type": "markdown",
   "id": "b0589561",
   "metadata": {},
   "source": [
    "##### The following code can lead to an infinite loop. Fix the code so that it can finish successfully for all numbers.\n",
    "\n",
    "#### Note: Try running your function with the number 0 as the input, and see what you get!"
   ]
  },
  {
   "cell_type": "code",
   "execution_count": 2,
   "id": "d8a75892",
   "metadata": {},
   "outputs": [
    {
     "name": "stdout",
     "output_type": "stream",
     "text": [
      "False\n",
      "True\n",
      "True\n",
      "False\n"
     ]
    }
   ],
   "source": [
    "def is_power_of_two(n):\n",
    "    # Check if the number can be divided by two without a remainder\n",
    "    while n % 2 == 0 and n != 0:\n",
    "        n = n / 2\n",
    "    # If after dividing by two the number is 1, it's a power of two\n",
    "    if n == 1:\n",
    "        return True\n",
    "        n += 1\n",
    "    return False\n",
    "  \n",
    "\n",
    "print(is_power_of_two(0)) # Should be False\n",
    "print(is_power_of_two(1)) # Should be True\n",
    "print(is_power_of_two(8)) # Should be True\n",
    "print(is_power_of_two(9)) # Should be False"
   ]
  },
  {
   "cell_type": "markdown",
   "id": "2593c555",
   "metadata": {},
   "source": [
    "##### Fill in the empty function so that it returns the sum of all the divisors of a number, without including it. A divisor is a number that divides into another without a remainder."
   ]
  },
  {
   "cell_type": "code",
   "execution_count": 4,
   "id": "a7f5a525",
   "metadata": {},
   "outputs": [
    {
     "name": "stdout",
     "output_type": "stream",
     "text": [
      "1\n",
      "6\n",
      "16\n",
      "55\n",
      "114\n"
     ]
    }
   ],
   "source": [
    "def sum_divisors(n):\n",
    "    i = 1\n",
    "    sum = 0\n",
    "    # Return the sum of all divisors of n, not including n\n",
    "    \n",
    "    while i < n:\n",
    "        if n % i == 0:\n",
    "            sum += i\n",
    "            i += 1\n",
    "        else:\n",
    "            i += 1\n",
    "    return sum\n",
    "\n",
    "print(sum_divisors(3)) # Should sum of 1\n",
    "# 1\n",
    "print(sum_divisors(6)) # Should be 6 (sum of 1+2+3)\n",
    "# 6\n",
    "print(sum_divisors(12)) # Should be 16 (sum of 1+2+3+4+6)\n",
    "# 16\n",
    "print(sum_divisors(36)) # Should sum of 1+2+3+4+6+9+12+18\n",
    "# 55\n",
    "print(sum_divisors(102)) # Should be sum of 2+3+6+17+34+51\n",
    "# 114"
   ]
  },
  {
   "cell_type": "markdown",
   "id": "bc76a99e",
   "metadata": {},
   "source": [
    "##### The multiplication_table function prints the results of a number passed to it multiplied by 1 through 5. An additional requirement is that the result is not to exceed 25, which is done with the break statement. Fill in the blanks to complete the function to satisfy these conditions"
   ]
  },
  {
   "cell_type": "code",
   "execution_count": 5,
   "id": "75291a8e",
   "metadata": {},
   "outputs": [
    {
     "name": "stdout",
     "output_type": "stream",
     "text": [
      "3x1=3\n",
      "3x2=6\n",
      "3x3=9\n",
      "3x4=12\n",
      "3x5=15\n",
      "\n",
      "5x1=5\n",
      "5x2=10\n",
      "5x3=15\n",
      "5x4=20\n",
      "5x5=25\n",
      "\n",
      "8x1=8\n",
      "8x2=16\n",
      "8x3=24\n"
     ]
    }
   ],
   "source": [
    "def multiplication_table(number):\n",
    "    # Initialize the starting point of the multiplication table\n",
    "    multiplier = 1\n",
    "    # Only want to loop through 5\n",
    "    while multiplier <= 5:\n",
    "        result = number * multiplier \n",
    "        # What is the additional condition to exit out of the loop?\n",
    "        if result > 25:\n",
    "            break\n",
    "        print(str(number) + \"x\" + str(multiplier) + \"=\" + str(result))\n",
    "        # Increment the variable for the loop\n",
    "        multiplier += 1\n",
    "\n",
    "multiplication_table(3) \n",
    "# Should print: 3x1=3 3x2=6 3x3=9 3x4=12 3x5=15\n",
    "print(\"\")\n",
    "multiplication_table(5) \n",
    "# Should print: 5x1=5 5x2=10 5x3=15 5x4=20 5x5=25\n",
    "print(\"\")\n",
    "multiplication_table(8)\t\n",
    "# Should print: 8x1=8 8x2=16 8x3=24"
   ]
  },
  {
   "cell_type": "code",
   "execution_count": null,
   "id": "12631d45",
   "metadata": {},
   "outputs": [],
   "source": []
  }
 ],
 "metadata": {
  "kernelspec": {
   "display_name": "Python 3",
   "language": "python",
   "name": "python3"
  },
  "language_info": {
   "codemirror_mode": {
    "name": "ipython",
    "version": 3
   },
   "file_extension": ".py",
   "mimetype": "text/x-python",
   "name": "python",
   "nbconvert_exporter": "python",
   "pygments_lexer": "ipython3",
   "version": "3.8.8"
  }
 },
 "nbformat": 4,
 "nbformat_minor": 5
}
