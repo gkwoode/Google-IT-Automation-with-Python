{
 "cells": [
  {
   "cell_type": "markdown",
   "id": "af49bfc3",
   "metadata": {},
   "source": [
    "##### The email_list function receives a dictionary, which contains domain names as keys, and a list of users as values. Fill in the blanks to generate a list that contains complete email addresses (e.g. diana.prince@gmail.com)"
   ]
  },
  {
   "cell_type": "code",
   "execution_count": 1,
   "id": "31770cd7",
   "metadata": {},
   "outputs": [
    {
     "name": "stdout",
     "output_type": "stream",
     "text": [
      "['clark.kent@gmail.com', 'diana.prince@gmail.com', 'peter.parker@gmail.com', 'barbara.gordon@yahoo.com', 'jean.grey@yahoo.com', 'bruce.wayne@hotmail.com']\n"
     ]
    }
   ],
   "source": [
    "def email_list(domains):\n",
    "    emails = []\n",
    "    for email, users in domains.items():\n",
    "        for user in users:\n",
    "            emails.append(\"{}@{}\".format(user, email))\n",
    "    return(emails)\n",
    "\n",
    "print(email_list({\"gmail.com\": [\"clark.kent\", \"diana.prince\", \"peter.parker\"], \"yahoo.com\": [\"barbara.gordon\", \"jean.grey\"], \"hotmail.com\": [\"bruce.wayne\"]}))"
   ]
  },
  {
   "cell_type": "markdown",
   "id": "689bf91b",
   "metadata": {},
   "source": [
    "##### The groups_per_user function receives a dictionary, which contains group names with the list of users. Users can belong to multiple groups. Fill in the blanks to return a dictionary with the users as keys and a list of their groups as values."
   ]
  },
  {
   "cell_type": "code",
   "execution_count": 16,
   "id": "2654d86d",
   "metadata": {},
   "outputs": [
    {
     "name": "stdout",
     "output_type": "stream",
     "text": [
      "{'userA': ['local'], 'userB': ['public'], 'admin': ['administrator']}\n"
     ]
    }
   ],
   "source": [
    "def groups_per_user(group_dictionary):\n",
    "    user_groups = {}\n",
    "    # Go through group_dictionary\n",
    "    for group, users in group_dictionary.items():\n",
    "        # Now go through the users in the group\n",
    "        for users in group_dictionary[group]:\n",
    "            if users in user_groups:\n",
    "                user_groups[users].append(group)\n",
    "        else:\n",
    "                user_groups[users] = [group]\n",
    "            # Now add the group to the the list of\n",
    "# groups for this user, creating the entry\n",
    "# in the dictionary if necessary\n",
    "    return(user_groups)\n",
    "\n",
    "print(groups_per_user({\"local\": [\"admin\", \"userA\"],\n",
    "                       \"public\":  [\"admin\", \"userB\"],\n",
    "                       \"administrator\": [\"admin\"] }))"
   ]
  },
  {
   "cell_type": "markdown",
   "id": "ea0601c5",
   "metadata": {},
   "source": [
    "##### The add_prices function returns the total price of all of the groceries in the  dictionary. Fill in the blanks to complete this function."
   ]
  },
  {
   "cell_type": "code",
   "execution_count": 17,
   "id": "9e78d622",
   "metadata": {},
   "outputs": [
    {
     "name": "stdout",
     "output_type": "stream",
     "text": [
      "28.44\n"
     ]
    }
   ],
   "source": [
    "def add_prices(basket):\n",
    "    # Initialize the variable that will be used for the calculation\n",
    "    total = 0\n",
    "    # Iterate through the dictionary items\n",
    "    for items, price in basket.items():\n",
    "        # Add each price to the total calculation\n",
    "        # Hint: how do you access the values of\n",
    "        # dictionary items?\n",
    "        total += price\n",
    "    # Limit the return value to 2 decimal places\n",
    "    return round(total, 2)  \n",
    "\n",
    "groceries = {\"bananas\": 1.56, \"apples\": 2.50, \"oranges\": 0.99, \"bread\": 4.59, \n",
    "             \"coffee\": 6.99, \"milk\": 3.39, \"eggs\": 2.98, \"cheese\": 5.44}\n",
    "\n",
    "print(add_prices(groceries)) # Should print 28.44"
   ]
  },
  {
   "cell_type": "code",
   "execution_count": null,
   "id": "9bbec06d",
   "metadata": {},
   "outputs": [],
   "source": []
  }
 ],
 "metadata": {
  "kernelspec": {
   "display_name": "Python 3",
   "language": "python",
   "name": "python3"
  },
  "language_info": {
   "codemirror_mode": {
    "name": "ipython",
    "version": 3
   },
   "file_extension": ".py",
   "mimetype": "text/x-python",
   "name": "python",
   "nbconvert_exporter": "python",
   "pygments_lexer": "ipython3",
   "version": "3.8.8"
  }
 },
 "nbformat": 4,
 "nbformat_minor": 5
}
